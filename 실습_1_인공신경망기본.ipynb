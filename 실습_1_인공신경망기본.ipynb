{
  "nbformat": 4,
  "nbformat_minor": 0,
  "metadata": {
    "colab": {
      "name": "실습_1_인공신경망기본.ipynb",
      "provenance": [],
      "private_outputs": true,
      "collapsed_sections": [],
      "include_colab_link": true
    },
    "language_info": {
      "codemirror_mode": {
        "name": "ipython",
        "version": 3
      },
      "file_extension": ".py",
      "mimetype": "text/x-python",
      "name": "python",
      "nbconvert_exporter": "python",
      "pygments_lexer": "ipython3",
      "version": "3.6.7"
    },
    "kernelspec": {
      "name": "python3",
      "display_name": "Python 3"
    },
    "accelerator": "GPU"
  },
  "cells": [
    {
      "cell_type": "markdown",
      "metadata": {
        "id": "view-in-github",
        "colab_type": "text"
      },
      "source": [
        "<a href=\"https://colab.research.google.com/github/idjoopal/mnist_practice/blob/master/%EC%8B%A4%EC%8A%B5_1_%EC%9D%B8%EA%B3%B5%EC%8B%A0%EA%B2%BD%EB%A7%9D%EA%B8%B0%EB%B3%B8.ipynb\" target=\"_parent\"><img src=\"https://colab.research.google.com/assets/colab-badge.svg\" alt=\"Open In Colab\"/></a>"
      ]
    },
    {
      "cell_type": "markdown",
      "metadata": {
        "id": "_jeH-EOwoLse"
      },
      "source": [
        "TF 2.0 Tutorial(DL Camp) - MNIST 입니다.\n",
        "\n",
        "해당 문서는 TensorFlow 공식 Tutorial을 기반으로 수정하였습니다."
      ]
    },
    {
      "cell_type": "markdown",
      "metadata": {
        "id": "hiH7AC-NTniF"
      },
      "source": [
        "\n",
        "\n",
        "먼저 프로그램에 텐서플로 라이브러리를 임포트합니다:"
      ]
    },
    {
      "cell_type": "code",
      "metadata": {
        "id": "0trJmd6DjqBZ"
      },
      "source": [
        "import tensorflow as tf\n",
        "\n",
        "from tensorflow.keras.layers import Dense, Flatten\n",
        "from tensorflow.keras.models import Sequential"
      ],
      "execution_count": null,
      "outputs": []
    },
    {
      "cell_type": "markdown",
      "metadata": {
        "id": "7NAbSZiaoJ4z"
      },
      "source": [
        "데이터셋을 로드하여 준비합니다.\n",
        "\n",
        "공식적으로 제공하는 데이터셋은 [해당 링크](https://www.tensorflow.org/api_docs/python/tf/keras/datasets) 에서 확인할 수 있습니다."
      ]
    },
    {
      "cell_type": "code",
      "metadata": {
        "id": "JqFRS6K07jJs"
      },
      "source": [
        "# data load\n",
        "mnist = tf.keras.datasets.mnist\n",
        "(x_train, y_train), (x_test, y_test) = mnist.load_data() \n",
        "\n",
        "# 0~255의 픽셀 값을 0~1로 조정\n",
        "x_train, x_test = x_train / 255.0, x_test / 255.0\n",
        "\n",
        "# shape 조정\n",
        "x_train = x_train.reshape(60000,28,28,1)\n",
        "x_test = x_test.reshape(10000,28,28,1)\n",
        "\n",
        "# 정답 label을 길이10 벡터화\n",
        "y_train = tf.one_hot(y_train, depth=10)\n",
        "y_test = tf.one_hot(y_test, depth=10)\n",
        "\n",
        "# Training set으로부터 Validation set을 따로 분리.\n",
        "x_train, x_val = x_train[:50000], x_train[50000:]\n",
        "y_train, y_val = y_train[:50000], y_train[50000:]"
      ],
      "execution_count": null,
      "outputs": []
    },
    {
      "cell_type": "markdown",
      "metadata": {
        "id": "L9VmXaRappUz"
      },
      "source": [
        "Dataset의 shape와 실제 값은 아래와 같습니다. 이미지의 각각의 pixel 값이라고 생각하시면 됩니다."
      ]
    },
    {
      "cell_type": "code",
      "metadata": {
        "id": "PEbcj2zrv5Jj"
      },
      "source": [
        "print(\"Train set input shape : \\t\", x_train.shape)\n",
        "print(\"Validation set input shape : \\t\", x_val.shape)\n",
        "print(\"Test set input shape : \\t\\t\", x_test.shape)\n",
        "print()\n",
        "print(\"Train set output shape : \\t\", y_train.shape)\n",
        "print(\"Validation set output shape : \\t\", y_val.shape)\n",
        "print(\"Test set output shape : \\t\", y_test.shape)"
      ],
      "execution_count": null,
      "outputs": []
    },
    {
      "cell_type": "markdown",
      "metadata": {
        "id": "8ksNrVWJv-BC"
      },
      "source": [
        "해당하는 Dataset의 shape와 이미지는 아래와 같습니다."
      ]
    },
    {
      "cell_type": "code",
      "metadata": {
        "id": "Hma6sKm4potH"
      },
      "source": [
        "import matplotlib.pyplot as plt\n",
        "\n",
        "INDEX = 0\n",
        "\n",
        "plt.imshow(x_train[INDEX].reshape(28,28), cmap='gray_r')\n",
        "\n",
        "print(x_train[INDEX].shape)\n",
        "print(y_train[INDEX])"
      ],
      "execution_count": null,
      "outputs": []
    },
    {
      "cell_type": "markdown",
      "metadata": {
        "id": "BPZ68wASog_I"
      },
      "source": [
        "인공신경망 아키텍처를 구성합니다. (교재상의 모델 구현)"
      ]
    },
    {
      "cell_type": "code",
      "metadata": {
        "id": "h3IKyzTCDNGo"
      },
      "source": [
        "model = Sequential([\n",
        "                    Flatten(),\n",
        "                    Dense(15, activation='sigmoid'),\n",
        "                    Dense(10, activation='softmax')\n",
        "])"
      ],
      "execution_count": null,
      "outputs": []
    },
    {
      "cell_type": "markdown",
      "metadata": {
        "id": "uGih-c2LgbJu"
      },
      "source": [
        "훈련에 필요한 옵티마이저(optimizer)와 손실 함수를 선택합니다.\n",
        "\n",
        "현재는 MSE(Quadratic error) Loss 함수와 SGD Optimizer를 사용할 예정입니다.\n",
        "\n",
        "성능 평가는 분류정확도(accuracy)를 기준으로 합니다"
      ]
    },
    {
      "cell_type": "code",
      "metadata": {
        "id": "u48C9WQ774n4"
      },
      "source": [
        "my_opt = tf.keras.optimizers.SGD()\n",
        "my_loss = tf.keras.losses.MeanSquaredError()\n",
        "model.compile(optimizer=my_opt, loss=my_loss, metrics=['acc'])"
      ],
      "execution_count": null,
      "outputs": []
    },
    {
      "cell_type": "markdown",
      "metadata": {
        "id": "Z8YT7UmFgpjV"
      },
      "source": [
        "이제 모델을 5 Epoch 동안 학습하면서, 테스트할 예정입니다.\n",
        "\n",
        "학습이 진행되는 동안 수집된 측정 지표를 바탕으로 최종 결과를 출력합니다.\n",
        "\n",
        "학습은 미니배치 32를 단위로 하여 진행합니다."
      ]
    },
    {
      "cell_type": "code",
      "metadata": {
        "id": "4OoMxpSKVT4x"
      },
      "source": [
        "EPOCHS = 5\n",
        "BATCH = 32\n",
        "history = model.fit(x=x_train, y=y_train, batch_size=BATCH, epochs=EPOCHS, validation_data=(x_val, y_val), verbose=1)"
      ],
      "execution_count": null,
      "outputs": []
    },
    {
      "cell_type": "markdown",
      "metadata": {
        "id": "mTUydXeNoHhJ"
      },
      "source": [
        "test 데이터에 대해 최종 성능을 체크합니다"
      ]
    },
    {
      "cell_type": "code",
      "metadata": {
        "id": "OFNcQL_foEtU"
      },
      "source": [
        "model.evaluate(x_test, y_test, verbose=2)"
      ],
      "execution_count": null,
      "outputs": []
    },
    {
      "cell_type": "markdown",
      "metadata": {
        "id": "0Vjnpwl31XVB"
      },
      "source": [
        "학습과정 동안의 Train Accuracy, Loss를 그래프로 확인할 수 있습니다. \n",
        "\n"
      ]
    },
    {
      "cell_type": "code",
      "metadata": {
        "id": "_knfyrBoxsaO"
      },
      "source": [
        "import matplotlib.pyplot as plt\n",
        "\n",
        "plt.figure(figsize=(5,5))\n",
        "plt.plot(range(1,EPOCHS+1), history.history['acc'], label=\"Train\")\n",
        "plt.plot(range(1,EPOCHS+1), history.history['val_acc'], label=\"Validation\")\n",
        "\n",
        "plt.title(\"Accuracy Graph\")\n",
        "plt.xticks(range(1,EPOCHS+1), range(1,EPOCHS+1))\n",
        "plt.legend(loc=2)\n",
        "\n",
        "plt.show()"
      ],
      "execution_count": null,
      "outputs": []
    },
    {
      "cell_type": "code",
      "metadata": {
        "id": "0XTOo_0cWoHB"
      },
      "source": [
        "plt.figure(figsize=(5,5))\n",
        "plt.plot(range(1,EPOCHS+1), history.history['loss'], label=\"Train\")\n",
        "plt.plot(range(1,EPOCHS+1), history.history['val_loss'], label=\"Validation\")\n",
        "\n",
        "plt.title(\"Loss Graph\")\n",
        "plt.xticks(range(1,EPOCHS+1), range(1,EPOCHS+1))\n",
        "plt.legend(loc=3)\n",
        "\n",
        "plt.show()"
      ],
      "execution_count": null,
      "outputs": []
    },
    {
      "cell_type": "markdown",
      "metadata": {
        "id": "XIuL-kvi1lVf"
      },
      "source": [
        "아래에는 Model의 구조와 Parameter 수를 확인할 수 있습니다."
      ]
    },
    {
      "cell_type": "code",
      "metadata": {
        "id": "_71WuwlUX5wN"
      },
      "source": [
        "model.summary()"
      ],
      "execution_count": null,
      "outputs": []
    },
    {
      "cell_type": "markdown",
      "metadata": {
        "id": "aYV88QcoI9Sn"
      },
      "source": [
        "# 실습 MISSION #1\n",
        "\n",
        "\n",
        "\n",
        "* 첫 번째 레이어 node 수 조정하기 : node 수 50 \n",
        "* 두 번째 레이어를 추가 : node 수 40\n",
        "* 세 번째 레이어를 추가 : node 수 30\n",
        "* 50 epoch동안 돌려보고 테스트 정확도를 확인해봅니다.\n",
        "* 하이퍼파라미터 조정하기 : Learning Rate 10.0\n",
        "\n",
        "(힌트:learning rate은 파라미터를 업데이트할 때 이용됩니다. 어디에 넣어야 할까요?)\n",
        "\n"
      ]
    },
    {
      "cell_type": "code",
      "metadata": {
        "id": "DMObYQsTaKp_"
      },
      "source": [
        "model = Sequential([\n",
        "                    Flatten(),\n",
        "                    Dense(50, activation='sigmoid'),\n",
        "                    Dense(40, activation='sigmoid'),\n",
        "                    Dense(30, activation='sigmoid'),\n",
        "                    Dense(10, activation='softmax')\n",
        "])\n",
        "\n",
        "my_opt = tf.keras.optimizers.SGD(lr=10.0)\n",
        "my_loss = tf.keras.losses.MeanSquaredError()\n",
        "model.compile(optimizer=my_opt, loss=my_loss, metrics=['acc'])\n",
        "\n",
        "EPOCHS = 50\n",
        "BATCH = 32\n",
        "history = model.fit(x=x_train, y=y_train, batch_size=BATCH, epochs=EPOCHS, validation_data=(x_val, y_val), verbose=1)"
      ],
      "execution_count": null,
      "outputs": []
    },
    {
      "cell_type": "markdown",
      "metadata": {
        "id": "YBzAJldWnp10"
      },
      "source": [
        "# 실습 MISSION #2\n",
        "\n",
        "더 나은 성능을 내기 위해 네트워크를 수정해보자!\n",
        "\n",
        "아래 항목을 자유로이 변경하고 **test set**에 대한 성능을 확인해봅시다\n",
        "\n",
        "---\n",
        "\n",
        "\n",
        "\n",
        "* 레이어 수 \n",
        "* 레이어 당 노드 수\n",
        "* learning rate\n",
        "* epoch 수\n",
        "* mini-batch size\n"
      ]
    },
    {
      "cell_type": "code",
      "metadata": {
        "id": "GchgMvlpgUjH"
      },
      "source": [
        "model = Sequential([\n",
        "                    Flatten(),\n",
        "                    Dense(50, activation='sigmoid'),\n",
        "                    Dense(40, activation='sigmoid'),\n",
        "                    Dense(30, activation='sigmoid'),\n",
        "                    Dense(10, activation='softmax')\n",
        "])\n",
        "\n",
        "my_opt = tf.keras.optimizers.SGD(lr=5.0)\n",
        "my_loss = tf.keras.losses.MeanSquaredError()\n",
        "model.compile(optimizer=my_opt, loss=my_loss, metrics=['acc'])\n",
        "\n",
        "EPOCHS = 50\n",
        "BATCH = 64\n",
        "history = model.fit(x=x_train, y=y_train, batch_size=BATCH, epochs=EPOCHS, validation_data=(x_val, y_val), verbose=1)"
      ],
      "execution_count": null,
      "outputs": []
    }
  ]
}